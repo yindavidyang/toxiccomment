{
 "cells": [
  {
   "cell_type": "code",
   "execution_count": 1,
   "metadata": {},
   "outputs": [],
   "source": [
    "from transformers import AutoTokenizer, TFAutoModelWithLMHead\n",
    "from dataclasses import dataclass\n",
    "from pathlib import Path\n",
    "import re"
   ]
  },
  {
   "cell_type": "code",
   "execution_count": 2,
   "metadata": {},
   "outputs": [],
   "source": [
    "root_dir = Path('/home/yyang/')\n",
    "pretrained_weights = 'gpt2-xl'\n",
    "pretrained_model_dir = root_dir / 'models' / 'transformers'"
   ]
  },
  {
   "cell_type": "code",
   "execution_count": 3,
   "metadata": {},
   "outputs": [],
   "source": [
    "def load_or_download_pretrained(cls, pretrained_model_dir: Path, pretrained_weights: str, **kw_args):\n",
    "    cache_dir = str(pretrained_model_dir / pretrained_weights)\n",
    "    try:\n",
    "        ret = cls.from_pretrained(cache_dir, **kw_args)\n",
    "    except:\n",
    "        ret = cls.from_pretrained(pretrained_weights, **kw_args)\n",
    "        ret.save_pretrained(cache_dir)\n",
    "    return ret"
   ]
  },
  {
   "cell_type": "code",
   "execution_count": 4,
   "metadata": {},
   "outputs": [
    {
     "data": {
      "text/plain": [
       "<transformers.tokenization_gpt2.GPT2Tokenizer at 0x7fe1ef05a9d0>"
      ]
     },
     "execution_count": 4,
     "metadata": {},
     "output_type": "execute_result"
    }
   ],
   "source": [
    "tokenizer = load_or_download_pretrained(AutoTokenizer, pretrained_model_dir, pretrained_weights)\n",
    "tokenizer"
   ]
  },
  {
   "cell_type": "code",
   "execution_count": 5,
   "metadata": {},
   "outputs": [
    {
     "name": "stderr",
     "output_type": "stream",
     "text": [
      "All model checkpoint weights were used when initializing TFGPT2LMHeadModel.\n",
      "\n",
      "All the weights of TFGPT2LMHeadModel were initialized from the model checkpoint at /home/yyang/models/transformers/gpt2-xl.\n",
      "If your task is similar to the task the model of the ckeckpoint was trained on, you can already use TFGPT2LMHeadModel for predictions without further training.\n"
     ]
    }
   ],
   "source": [
    "model = load_or_download_pretrained(TFAutoModelWithLMHead, pretrained_model_dir, pretrained_weights)"
   ]
  },
  {
   "cell_type": "code",
   "execution_count": 6,
   "metadata": {},
   "outputs": [],
   "source": [
    "@dataclass\n",
    "class TFChatbot:\n",
    "    tokenizer: AutoTokenizer\n",
    "    model: TFAutoModelWithLMHead\n",
    "    name : str\n",
    "        \n",
    "    def chat(self, question, max_len=100):\n",
    "        input_sentence = f\"\"\"Me: {question}\n",
    "        {self.name}:\"\"\"\n",
    "\n",
    "        input_ids = self.tokenizer.encode(input_sentence, return_tensors='tf')\n",
    "        sample_output = self.model.generate(\n",
    "            input_ids, \n",
    "            max_length=max_len, \n",
    "            pad_token_id=tokenizer.eos_token_id,\n",
    "\n",
    "            do_sample=True,\n",
    "            top_k=50,\n",
    "        )\n",
    "        result = self.tokenizer.decode(sample_output[0], skip_special_tokens=True)\n",
    "\n",
    "        response = result[len(input_sentence)+1:]\n",
    "        response = re.split('\\n|\\S+:', response)[0]\n",
    "        response = response.replace('\\xa0', ' ').strip()\n",
    "        return response"
   ]
  },
  {
   "cell_type": "code",
   "execution_count": 7,
   "metadata": {},
   "outputs": [],
   "source": [
    "bot = TFChatbot(tokenizer, model, name='Mohammed')"
   ]
  },
  {
   "cell_type": "code",
   "execution_count": 13,
   "metadata": {},
   "outputs": [
    {
     "name": "stdout",
     "output_type": "stream",
     "text": [
      "CPU times: user 13.2 s, sys: 51.1 ms, total: 13.3 s\n",
      "Wall time: 13.3 s\n"
     ]
    },
    {
     "data": {
      "text/plain": [
       "\"I'm a person from America that wants to visit India.\""
      ]
     },
     "execution_count": 13,
     "metadata": {},
     "output_type": "execute_result"
    }
   ],
   "source": [
    "%%time\n",
    "\n",
    "bot.chat('Who are you?')"
   ]
  },
  {
   "cell_type": "code",
   "execution_count": 14,
   "metadata": {},
   "outputs": [
    {
     "data": {
      "text/plain": [
       "'The highest value is God. For instance the best man is his closest and closest friend. It is the highest goal.'"
      ]
     },
     "execution_count": 14,
     "metadata": {},
     "output_type": "execute_result"
    }
   ],
   "source": [
    "bot.chat('What does God mean to you?')"
   ]
  },
  {
   "cell_type": "code",
   "execution_count": 15,
   "metadata": {},
   "outputs": [
    {
     "data": {
      "text/plain": [
       "'I want to talk to you about the Quran and how to handle Muslims.'"
      ]
     },
     "execution_count": 15,
     "metadata": {},
     "output_type": "execute_result"
    }
   ],
   "source": [
    "bot.chat('Why are you here?')"
   ]
  },
  {
   "cell_type": "code",
   "execution_count": null,
   "metadata": {},
   "outputs": [],
   "source": [
    "bot.chat('What is the purpose of life?')"
   ]
  },
  {
   "cell_type": "code",
   "execution_count": null,
   "metadata": {},
   "outputs": [],
   "source": [
    "bot.chat('Is science a lie?')"
   ]
  },
  {
   "cell_type": "code",
   "execution_count": null,
   "metadata": {},
   "outputs": [],
   "source": [
    "bot.chat('When will corona virus end?')"
   ]
  },
  {
   "cell_type": "code",
   "execution_count": null,
   "metadata": {},
   "outputs": [],
   "source": []
  }
 ],
 "metadata": {
  "kernelspec": {
   "display_name": "Python 3",
   "language": "python",
   "name": "python3"
  },
  "language_info": {
   "codemirror_mode": {
    "name": "ipython",
    "version": 3
   },
   "file_extension": ".py",
   "mimetype": "text/x-python",
   "name": "python",
   "nbconvert_exporter": "python",
   "pygments_lexer": "ipython3",
   "version": "3.8.3"
  }
 },
 "nbformat": 4,
 "nbformat_minor": 4
}
